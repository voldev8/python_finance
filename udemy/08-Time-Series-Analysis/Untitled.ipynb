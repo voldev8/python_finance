{
 "cells": [
  {
   "cell_type": "code",
   "execution_count": 1,
   "metadata": {},
   "outputs": [],
   "source": [
    "#statsmodels"
   ]
  },
  {
   "cell_type": "code",
   "execution_count": 3,
   "metadata": {},
   "outputs": [],
   "source": [
    "import pandas as pd\n",
    "import numpy as np\n",
    "import matplotlib.pyplot as plt\n",
    "%matplotlib inline"
   ]
  },
  {
   "cell_type": "code",
   "execution_count": 4,
   "metadata": {},
   "outputs": [],
   "source": [
    "import statsmodels.api as sm"
   ]
  },
  {
   "cell_type": "code",
   "execution_count": 5,
   "metadata": {},
   "outputs": [],
   "source": [
    "df = sm.datasets.macrodata.load_pandas().data"
   ]
  },
  {
   "cell_type": "code",
   "execution_count": 9,
   "metadata": {},
   "outputs": [
    {
     "name": "stdout",
     "output_type": "stream",
     "text": [
      "::\n",
      "    Number of Observations - 203\n",
      "\n",
      "    Number of Variables - 14\n",
      "\n",
      "    Variable name definitions::\n",
      "\n",
      "        year      - 1959q1 - 2009q3\n",
      "        quarter   - 1-4\n",
      "        realgdp   - Real gross domestic product (Bil. of chained 2005 US$,\n",
      "                    seasonally adjusted annual rate)\n",
      "        realcons  - Real personal consumption expenditures (Bil. of chained\n",
      "                    2005 US$, seasonally adjusted annual rate)\n",
      "        realinv   - Real gross private domestic investment (Bil. of chained\n",
      "                    2005 US$, seasonally adjusted annual rate)\n",
      "        realgovt  - Real federal consumption expenditures & gross investment\n",
      "                    (Bil. of chained 2005 US$, seasonally adjusted annual rate)\n",
      "        realdpi   - Real private disposable income (Bil. of chained 2005\n",
      "                    US$, seasonally adjusted annual rate)\n",
      "        cpi       - End of the quarter consumer price index for all urban\n",
      "                    consumers: all items (1982-84 = 100, seasonally adjusted).\n",
      "        m1        - End of the quarter M1 nominal money stock (Seasonally\n",
      "                    adjusted)\n",
      "        tbilrate  - Quarterly monthly average of the monthly 3-month\n",
      "                    treasury bill: secondary market rate\n",
      "        unemp     - Seasonally adjusted unemployment rate (%)\n",
      "        pop       - End of the quarter total population: all ages incl. armed\n",
      "                    forces over seas\n",
      "        infl      - Inflation rate (ln(cpi_{t}/cpi_{t-1}) * 400)\n",
      "        realint   - Real interest rate (tbilrate - infl)\n",
      "\n"
     ]
    }
   ],
   "source": [
    "print(sm.datasets.macrodata.NOTE)"
   ]
  },
  {
   "cell_type": "code",
   "execution_count": 10,
   "metadata": {},
   "outputs": [
    {
     "data": {
      "text/html": [
       "<div>\n",
       "<style scoped>\n",
       "    .dataframe tbody tr th:only-of-type {\n",
       "        vertical-align: middle;\n",
       "    }\n",
       "\n",
       "    .dataframe tbody tr th {\n",
       "        vertical-align: top;\n",
       "    }\n",
       "\n",
       "    .dataframe thead th {\n",
       "        text-align: right;\n",
       "    }\n",
       "</style>\n",
       "<table border=\"1\" class=\"dataframe\">\n",
       "  <thead>\n",
       "    <tr style=\"text-align: right;\">\n",
       "      <th></th>\n",
       "      <th>year</th>\n",
       "      <th>quarter</th>\n",
       "      <th>realgdp</th>\n",
       "      <th>realcons</th>\n",
       "      <th>realinv</th>\n",
       "      <th>realgovt</th>\n",
       "      <th>realdpi</th>\n",
       "      <th>cpi</th>\n",
       "      <th>m1</th>\n",
       "      <th>tbilrate</th>\n",
       "      <th>unemp</th>\n",
       "      <th>pop</th>\n",
       "      <th>infl</th>\n",
       "      <th>realint</th>\n",
       "    </tr>\n",
       "  </thead>\n",
       "  <tbody>\n",
       "    <tr>\n",
       "      <th>198</th>\n",
       "      <td>2008.0</td>\n",
       "      <td>3.0</td>\n",
       "      <td>13324.600</td>\n",
       "      <td>9267.7</td>\n",
       "      <td>1990.693</td>\n",
       "      <td>991.551</td>\n",
       "      <td>9838.3</td>\n",
       "      <td>216.889</td>\n",
       "      <td>1474.7</td>\n",
       "      <td>1.17</td>\n",
       "      <td>6.0</td>\n",
       "      <td>305.270</td>\n",
       "      <td>-3.16</td>\n",
       "      <td>4.33</td>\n",
       "    </tr>\n",
       "    <tr>\n",
       "      <th>199</th>\n",
       "      <td>2008.0</td>\n",
       "      <td>4.0</td>\n",
       "      <td>13141.920</td>\n",
       "      <td>9195.3</td>\n",
       "      <td>1857.661</td>\n",
       "      <td>1007.273</td>\n",
       "      <td>9920.4</td>\n",
       "      <td>212.174</td>\n",
       "      <td>1576.5</td>\n",
       "      <td>0.12</td>\n",
       "      <td>6.9</td>\n",
       "      <td>305.952</td>\n",
       "      <td>-8.79</td>\n",
       "      <td>8.91</td>\n",
       "    </tr>\n",
       "    <tr>\n",
       "      <th>200</th>\n",
       "      <td>2009.0</td>\n",
       "      <td>1.0</td>\n",
       "      <td>12925.410</td>\n",
       "      <td>9209.2</td>\n",
       "      <td>1558.494</td>\n",
       "      <td>996.287</td>\n",
       "      <td>9926.4</td>\n",
       "      <td>212.671</td>\n",
       "      <td>1592.8</td>\n",
       "      <td>0.22</td>\n",
       "      <td>8.1</td>\n",
       "      <td>306.547</td>\n",
       "      <td>0.94</td>\n",
       "      <td>-0.71</td>\n",
       "    </tr>\n",
       "    <tr>\n",
       "      <th>201</th>\n",
       "      <td>2009.0</td>\n",
       "      <td>2.0</td>\n",
       "      <td>12901.504</td>\n",
       "      <td>9189.0</td>\n",
       "      <td>1456.678</td>\n",
       "      <td>1023.528</td>\n",
       "      <td>10077.5</td>\n",
       "      <td>214.469</td>\n",
       "      <td>1653.6</td>\n",
       "      <td>0.18</td>\n",
       "      <td>9.2</td>\n",
       "      <td>307.226</td>\n",
       "      <td>3.37</td>\n",
       "      <td>-3.19</td>\n",
       "    </tr>\n",
       "    <tr>\n",
       "      <th>202</th>\n",
       "      <td>2009.0</td>\n",
       "      <td>3.0</td>\n",
       "      <td>12990.341</td>\n",
       "      <td>9256.0</td>\n",
       "      <td>1486.398</td>\n",
       "      <td>1044.088</td>\n",
       "      <td>10040.6</td>\n",
       "      <td>216.385</td>\n",
       "      <td>1673.9</td>\n",
       "      <td>0.12</td>\n",
       "      <td>9.6</td>\n",
       "      <td>308.013</td>\n",
       "      <td>3.56</td>\n",
       "      <td>-3.44</td>\n",
       "    </tr>\n",
       "  </tbody>\n",
       "</table>\n",
       "</div>"
      ],
      "text/plain": [
       "       year  quarter    realgdp  realcons   realinv  realgovt  realdpi  \\\n",
       "198  2008.0      3.0  13324.600    9267.7  1990.693   991.551   9838.3   \n",
       "199  2008.0      4.0  13141.920    9195.3  1857.661  1007.273   9920.4   \n",
       "200  2009.0      1.0  12925.410    9209.2  1558.494   996.287   9926.4   \n",
       "201  2009.0      2.0  12901.504    9189.0  1456.678  1023.528  10077.5   \n",
       "202  2009.0      3.0  12990.341    9256.0  1486.398  1044.088  10040.6   \n",
       "\n",
       "         cpi      m1  tbilrate  unemp      pop  infl  realint  \n",
       "198  216.889  1474.7      1.17    6.0  305.270 -3.16     4.33  \n",
       "199  212.174  1576.5      0.12    6.9  305.952 -8.79     8.91  \n",
       "200  212.671  1592.8      0.22    8.1  306.547  0.94    -0.71  \n",
       "201  214.469  1653.6      0.18    9.2  307.226  3.37    -3.19  \n",
       "202  216.385  1673.9      0.12    9.6  308.013  3.56    -3.44  "
      ]
     },
     "execution_count": 10,
     "metadata": {},
     "output_type": "execute_result"
    }
   ],
   "source": [
    "df.tail()"
   ]
  },
  {
   "cell_type": "code",
   "execution_count": 13,
   "metadata": {},
   "outputs": [],
   "source": [
    "#we ll use pandas fo these\n",
    "index = pd.Index(sm.tsa.datetools.dates_from_range('1959Q1','2009Q3'))"
   ]
  },
  {
   "cell_type": "code",
   "execution_count": 14,
   "metadata": {},
   "outputs": [],
   "source": [
    "df.index = index"
   ]
  },
  {
   "cell_type": "code",
   "execution_count": 15,
   "metadata": {},
   "outputs": [
    {
     "data": {
      "text/html": [
       "<div>\n",
       "<style scoped>\n",
       "    .dataframe tbody tr th:only-of-type {\n",
       "        vertical-align: middle;\n",
       "    }\n",
       "\n",
       "    .dataframe tbody tr th {\n",
       "        vertical-align: top;\n",
       "    }\n",
       "\n",
       "    .dataframe thead th {\n",
       "        text-align: right;\n",
       "    }\n",
       "</style>\n",
       "<table border=\"1\" class=\"dataframe\">\n",
       "  <thead>\n",
       "    <tr style=\"text-align: right;\">\n",
       "      <th></th>\n",
       "      <th>year</th>\n",
       "      <th>quarter</th>\n",
       "      <th>realgdp</th>\n",
       "      <th>realcons</th>\n",
       "      <th>realinv</th>\n",
       "      <th>realgovt</th>\n",
       "      <th>realdpi</th>\n",
       "      <th>cpi</th>\n",
       "      <th>m1</th>\n",
       "      <th>tbilrate</th>\n",
       "      <th>unemp</th>\n",
       "      <th>pop</th>\n",
       "      <th>infl</th>\n",
       "      <th>realint</th>\n",
       "    </tr>\n",
       "  </thead>\n",
       "  <tbody>\n",
       "    <tr>\n",
       "      <th>1959-03-31</th>\n",
       "      <td>1959.0</td>\n",
       "      <td>1.0</td>\n",
       "      <td>2710.349</td>\n",
       "      <td>1707.4</td>\n",
       "      <td>286.898</td>\n",
       "      <td>470.045</td>\n",
       "      <td>1886.9</td>\n",
       "      <td>28.98</td>\n",
       "      <td>139.7</td>\n",
       "      <td>2.82</td>\n",
       "      <td>5.8</td>\n",
       "      <td>177.146</td>\n",
       "      <td>0.00</td>\n",
       "      <td>0.00</td>\n",
       "    </tr>\n",
       "    <tr>\n",
       "      <th>1959-06-30</th>\n",
       "      <td>1959.0</td>\n",
       "      <td>2.0</td>\n",
       "      <td>2778.801</td>\n",
       "      <td>1733.7</td>\n",
       "      <td>310.859</td>\n",
       "      <td>481.301</td>\n",
       "      <td>1919.7</td>\n",
       "      <td>29.15</td>\n",
       "      <td>141.7</td>\n",
       "      <td>3.08</td>\n",
       "      <td>5.1</td>\n",
       "      <td>177.830</td>\n",
       "      <td>2.34</td>\n",
       "      <td>0.74</td>\n",
       "    </tr>\n",
       "    <tr>\n",
       "      <th>1959-09-30</th>\n",
       "      <td>1959.0</td>\n",
       "      <td>3.0</td>\n",
       "      <td>2775.488</td>\n",
       "      <td>1751.8</td>\n",
       "      <td>289.226</td>\n",
       "      <td>491.260</td>\n",
       "      <td>1916.4</td>\n",
       "      <td>29.35</td>\n",
       "      <td>140.5</td>\n",
       "      <td>3.82</td>\n",
       "      <td>5.3</td>\n",
       "      <td>178.657</td>\n",
       "      <td>2.74</td>\n",
       "      <td>1.09</td>\n",
       "    </tr>\n",
       "    <tr>\n",
       "      <th>1959-12-31</th>\n",
       "      <td>1959.0</td>\n",
       "      <td>4.0</td>\n",
       "      <td>2785.204</td>\n",
       "      <td>1753.7</td>\n",
       "      <td>299.356</td>\n",
       "      <td>484.052</td>\n",
       "      <td>1931.3</td>\n",
       "      <td>29.37</td>\n",
       "      <td>140.0</td>\n",
       "      <td>4.33</td>\n",
       "      <td>5.6</td>\n",
       "      <td>179.386</td>\n",
       "      <td>0.27</td>\n",
       "      <td>4.06</td>\n",
       "    </tr>\n",
       "    <tr>\n",
       "      <th>1960-03-31</th>\n",
       "      <td>1960.0</td>\n",
       "      <td>1.0</td>\n",
       "      <td>2847.699</td>\n",
       "      <td>1770.5</td>\n",
       "      <td>331.722</td>\n",
       "      <td>462.199</td>\n",
       "      <td>1955.5</td>\n",
       "      <td>29.54</td>\n",
       "      <td>139.6</td>\n",
       "      <td>3.50</td>\n",
       "      <td>5.2</td>\n",
       "      <td>180.007</td>\n",
       "      <td>2.31</td>\n",
       "      <td>1.19</td>\n",
       "    </tr>\n",
       "  </tbody>\n",
       "</table>\n",
       "</div>"
      ],
      "text/plain": [
       "              year  quarter   realgdp  realcons  realinv  realgovt  realdpi  \\\n",
       "1959-03-31  1959.0      1.0  2710.349    1707.4  286.898   470.045   1886.9   \n",
       "1959-06-30  1959.0      2.0  2778.801    1733.7  310.859   481.301   1919.7   \n",
       "1959-09-30  1959.0      3.0  2775.488    1751.8  289.226   491.260   1916.4   \n",
       "1959-12-31  1959.0      4.0  2785.204    1753.7  299.356   484.052   1931.3   \n",
       "1960-03-31  1960.0      1.0  2847.699    1770.5  331.722   462.199   1955.5   \n",
       "\n",
       "              cpi     m1  tbilrate  unemp      pop  infl  realint  \n",
       "1959-03-31  28.98  139.7      2.82    5.8  177.146  0.00     0.00  \n",
       "1959-06-30  29.15  141.7      3.08    5.1  177.830  2.34     0.74  \n",
       "1959-09-30  29.35  140.5      3.82    5.3  178.657  2.74     1.09  \n",
       "1959-12-31  29.37  140.0      4.33    5.6  179.386  0.27     4.06  \n",
       "1960-03-31  29.54  139.6      3.50    5.2  180.007  2.31     1.19  "
      ]
     },
     "execution_count": 15,
     "metadata": {},
     "output_type": "execute_result"
    }
   ],
   "source": [
    "df.head()"
   ]
  },
  {
   "cell_type": "code",
   "execution_count": 16,
   "metadata": {},
   "outputs": [
    {
     "data": {
      "text/plain": [
       "<matplotlib.axes._subplots.AxesSubplot at 0x1ea219fcb70>"
      ]
     },
     "execution_count": 16,
     "metadata": {},
     "output_type": "execute_result"
    },
    {
     "data": {
      "image/png": "[encoded data removed]",
      "text/plain": [
       "<Figure size 432x288 with 1 Axes>"
      ]
     },
     "metadata": {
      "needs_background": "light"
     },
     "output_type": "display_data"
    }
   ],
   "source": [
    "df['realgdp'].plot()"
   ]
  },
  {
   "cell_type": "code",
   "execution_count": 24,
   "metadata": {},
   "outputs": [],
   "source": [
    "#trend\n",
    "gdp_cycle, gdp_trend = sm.tsa.filters.hpfilter(df['realgdp'])\n",
    "#this is tuple"
   ]
  },
  {
   "cell_type": "code",
   "execution_count": 25,
   "metadata": {},
   "outputs": [],
   "source": [
    "df['trend'] = gdp_trend"
   ]
  },
  {
   "cell_type": "code",
   "execution_count": 28,
   "metadata": {},
   "outputs": [
    {
     "data": {
      "text/plain": [
       "<matplotlib.axes._subplots.AxesSubplot at 0x1ea2179f518>"
      ]
     },
     "execution_count": 28,
     "metadata": {},
     "output_type": "execute_result"
    },
    {
     "data": {
      "text/plain": [
       "<Figure size 432x288 with 0 Axes>"
      ]
     },
     "metadata": {},
     "output_type": "display_data"
    },
    {
     "data": {
      "image/png": "[encoded data removed]",
      "text/plain": [
       "<Figure size 1152x576 with 1 Axes>"
      ]
     },
     "metadata": {
      "needs_background": "light"
     },
     "output_type": "display_data"
    }
   ],
   "source": [
    "df[['realgdp', 'trend']].plot(figsize=(16,8))"
   ]
  },
  {
   "cell_type": "code",
   "execution_count": 30,
   "metadata": {},
   "outputs": [
    {
     "data": {
      "text/plain": [
       "<matplotlib.axes._subplots.AxesSubplot at 0x1ea22101be0>"
      ]
     },
     "execution_count": 30,
     "metadata": {},
     "output_type": "execute_result"
    },
    {
     "data": {
      "image/png": "[encoded data removed]",
      "text/plain": [
       "<Figure size 1152x576 with 1 Axes>"
      ]
     },
     "metadata": {
      "needs_background": "light"
     },
     "output_type": "display_data"
    }
   ],
   "source": [
    "df[['realgdp', 'trend']]['2000-03-31':].plot(figsize=(16,8))"
   ]
  },
  {
   "cell_type": "code",
   "execution_count": null,
   "metadata": {},
   "outputs": [],
   "source": []
  }
 ],
 "metadata": {
  "kernelspec": {
   "display_name": "Python 3",
   "language": "python",
   "name": "python3"
  },
  "language_info": {
   "codemirror_mode": {
    "name": "ipython",
    "version": 3
   },
   "file_extension": ".py",
   "mimetype": "text/x-python",
   "name": "python",
   "nbconvert_exporter": "python",
   "pygments_lexer": "ipython3",
   "version": "3.7.3"
  }
 },
 "nbformat": 4,
 "nbformat_minor": 2
}
