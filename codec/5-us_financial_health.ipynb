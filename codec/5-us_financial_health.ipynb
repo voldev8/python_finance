{
 "cells": [
  {
   "cell_type": "markdown",
   "metadata": {},
   "source": [
    "#### US Financial Health\n",
    "\n",
    "In this project, we’ll be importing various types of financial data to try and determine the financial health and volatility of the US between 1999 and 2019.\n",
    "\n",
    "We’ll use the techniques we’ve learned for importing financial data, to import stock and commodity pricing data from csv files and the FRED API. Then grab GDP and goods and services export data from the World Bank API.\n",
    "\n",
    "Finally, we’ll find the log returns of the imported data, and use that to determine the volatility of the data over the 20 year period.\n"
   ]
  },
  {
   "cell_type": "code",
   "execution_count": 1,
   "metadata": {},
   "outputs": [],
   "source": [
    "import pandas as pd\n",
    "import pandas_datareader.data as web\n",
    "from datetime import datetime\n",
    "import pandas_datareader.wb as wb \n",
    "import numpy as np"
   ]
  },
  {
   "cell_type": "code",
   "execution_count": 2,
   "metadata": {},
   "outputs": [],
   "source": [
    "gold_prices = pd.read_csv('gold_prices.csv')\n",
    "crude_oil_prices = pd.read_csv('crude_oil_prices.csv')"
   ]
  },
  {
   "cell_type": "code",
   "execution_count": 3,
   "metadata": {},
   "outputs": [
    {
     "name": "stdout",
     "output_type": "stream",
     "text": [
      "         Date  Gold_Price\n",
      "0  2019-08-30     1528.40\n",
      "1  2019-08-29     1540.20\n",
      "2  2019-08-28     1537.15\n",
      "3  2019-08-27     1532.95\n",
      "4  2019-08-26     1503.80\n"
     ]
    }
   ],
   "source": [
    "print(gold_prices.head())"
   ]
  },
  {
   "cell_type": "code",
   "execution_count": 4,
   "metadata": {},
   "outputs": [
    {
     "name": "stdout",
     "output_type": "stream",
     "text": [
      "           Date  Crude_Oil_Price\n",
      "0  Sep 11, 2018            69.25\n",
      "1  Sep 10, 2018            67.54\n",
      "2  Sep 07, 2018            67.75\n",
      "3  Sep 06, 2018            67.77\n",
      "4  Sep 05, 2018            68.72\n"
     ]
    }
   ],
   "source": [
    "print(crude_oil_prices.head())"
   ]
  },
  {
   "cell_type": "code",
   "execution_count": 5,
   "metadata": {},
   "outputs": [
    {
     "name": "stdout",
     "output_type": "stream",
     "text": [
      "            NASDAQ100\n",
      "DATE                 \n",
      "2018-12-26   6262.766\n",
      "2018-12-27   6288.301\n",
      "2018-12-28   6285.266\n",
      "2018-12-31   6329.965\n",
      "2019-01-01        NaN\n"
     ]
    }
   ],
   "source": [
    "start = datetime(1999,1,1)\n",
    "end = datetime(2019,1,1)\n",
    "nasdaq_data = web.DataReader('NASDAQ100', 'fred', start, end)\n",
    "print(nasdaq_data.tail())"
   ]
  },
  {
   "cell_type": "code",
   "execution_count": 6,
   "metadata": {},
   "outputs": [
    {
     "name": "stdout",
     "output_type": "stream",
     "text": [
      "                    NY.GDP.MKTP.CD\n",
      "country       year                \n",
      "United States 2019             NaN\n",
      "              2018    2.049410e+13\n",
      "              2017    1.948539e+13\n",
      "              2016    1.870719e+13\n",
      "              2015    1.821930e+13\n",
      "              2014    1.752175e+13\n",
      "              2013    1.678485e+13\n",
      "              2012    1.619701e+13\n",
      "              2011    1.554258e+13\n",
      "              2010    1.499205e+13\n",
      "              2009    1.444893e+13\n",
      "              2008    1.471284e+13\n",
      "              2007    1.445186e+13\n",
      "              2006    1.381461e+13\n",
      "              2005    1.303664e+13\n",
      "              2004    1.221373e+13\n",
      "              2003    1.145824e+13\n",
      "              2002    1.093642e+13\n",
      "              2001    1.058182e+13\n",
      "              2000    1.025235e+13\n",
      "              1999    9.630664e+12\n"
     ]
    }
   ],
   "source": [
    "gdp_data = wb.download(indicator='NY.GDP.MKTP.CD', country=['US'], start=start, end=end)\n",
    "print(gdp_data)"
   ]
  },
  {
   "cell_type": "code",
   "execution_count": 7,
   "metadata": {},
   "outputs": [
    {
     "name": "stdout",
     "output_type": "stream",
     "text": [
      "                    NE.EXP.GNFS.CN\n",
      "country       year                \n",
      "United States 2019             NaN\n",
      "              2018             NaN\n",
      "              2017    2.350175e+12\n",
      "              2016    2.217576e+12\n",
      "              2015    2.265047e+12\n",
      "              2014    2.371027e+12\n",
      "              2013    2.273428e+12\n",
      "              2012    2.191280e+12\n",
      "              2011    2.102995e+12\n",
      "              2010    1.846280e+12\n",
      "              2009    1.581996e+12\n",
      "              2008    1.837055e+12\n",
      "              2007    1.660853e+12\n",
      "              2006    1.472613e+12\n",
      "              2005    1.305225e+12\n",
      "              2004    1.177631e+12\n",
      "              2003    1.036177e+12\n",
      "              2002    9.987410e+11\n",
      "              2001    1.024636e+12\n",
      "              2000    1.096255e+12\n",
      "              1999    9.927780e+11\n"
     ]
    }
   ],
   "source": [
    "export_data = wb.download(indicator='NE.EXP.GNFS.CN', country=['US'], start=start, end=end)\n",
    "print(export_data)"
   ]
  },
  {
   "cell_type": "code",
   "execution_count": 8,
   "metadata": {},
   "outputs": [],
   "source": [
    "def log_return(prices):\n",
    "    return np.log(prices/prices.shift(1))\n",
    "\n",
    "gold_returns = log_return(gold_prices['Gold_Price'])\n",
    "crude_oil_returns = log_return(crude_oil_prices['Crude_Oil_Price'])\n",
    "nasdaq_returns = log_return(nasdaq_data['NASDAQ100'])\n",
    "gdp_change = log_return(gdp_data['NY.GDP.MKTP.CD'])\n",
    "export_change = log_return(export_data['NE.EXP.GNFS.CN'])"
   ]
  },
  {
   "cell_type": "code",
   "execution_count": 9,
   "metadata": {},
   "outputs": [
    {
     "name": "stdout",
     "output_type": "stream",
     "text": [
      "0.00011375928671558533\n",
      "0.0005563207795629894\n",
      "0.0003178379833057235\n",
      "0.0003576341221890429\n",
      "0.006775724487950142\n"
     ]
    }
   ],
   "source": [
    "print(gold_returns.var())\n",
    "print(crude_oil_returns.var())\n",
    "print(nasdaq_returns.var())\n",
    "\n",
    "print(gdp_change.var())\n",
    "print(export_change.var())"
   ]
  },
  {
   "cell_type": "markdown",
   "metadata": {},
   "source": [
    "\n",
    "The S&P 500, a collection of 500 large companies listed on stock exchanges in the United States, has the smallest variance, and thus is the least volatile. Given that the S&P 500 index is a weighted measurement of many stocks across a variety of industries, it is seen as a safer, diversified investment.\n",
    "\n",
    "Gold, notorious for being a stable investment has the second smallest variance.\n",
    "\n",
    "Crude oil is the most volatile, which makes sense as gas prices are often unpredictable, especially in the last 20 years.\n",
    "\n",
    "The stocks are interesting. The NASDAQ 100 is more volatile than the S&P 500, which, when you think about it makes sense, as the S&P 500 is far more diversified and tracks more of the market.\n",
    "\n",
    "Then finally we have GDP and exports.\n",
    "\n",
    "Exports are very volatile, which could have to do with industries moving overseas in the last 20 years, and global competition for the production of goods.\n",
    "\n",
    "GDP is actually fairly similar to the NASDAQ 100 in terms of volatility, which is perhaps an interesting correlation.\n"
   ]
  },
  {
   "cell_type": "code",
   "execution_count": null,
   "metadata": {},
   "outputs": [],
   "source": []
  }
 ],
 "metadata": {
  "kernelspec": {
   "display_name": "Python 3",
   "language": "python",
   "name": "python3"
  },
  "language_info": {
   "codemirror_mode": {
    "name": "ipython",
    "version": 3
   },
   "file_extension": ".py",
   "mimetype": "text/x-python",
   "name": "python",
   "nbconvert_exporter": "python",
   "pygments_lexer": "ipython3",
   "version": "3.7.3"
  }
 },
 "nbformat": 4,
 "nbformat_minor": 2
}
