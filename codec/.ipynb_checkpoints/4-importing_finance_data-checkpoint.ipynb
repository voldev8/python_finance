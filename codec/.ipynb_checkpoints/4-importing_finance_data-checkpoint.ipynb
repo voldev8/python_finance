{
 "cells": [
  {
   "cell_type": "markdown",
   "metadata": {},
   "source": [
    "### Importing Finance Data\n"
   ]
  },
  {
   "cell_type": "markdown",
   "metadata": {},
   "source": [
    "#### Pandas-Datareader Module\n",
    "\n",
    "https://pandas-datareader.readthedocs.io/en/latest/index.html"
   ]
  },
  {
   "cell_type": "code",
   "execution_count": 1,
   "metadata": {},
   "outputs": [],
   "source": [
    "from pandas_datareader import wb\n",
    "from datetime import datetime"
   ]
  },
  {
   "cell_type": "code",
   "execution_count": 2,
   "metadata": {},
   "outputs": [
    {
     "name": "stdout",
     "output_type": "stream",
     "text": [
      "                    NY.GDP.PCAP.KD\n",
      "country       year                \n",
      "Canada        2008    48497.560167\n",
      "              2007    48536.539413\n",
      "              2006    48014.931197\n",
      "              2005    47257.472197\n",
      "Turkey        2008    10602.856580\n",
      "              2007    10640.422825\n",
      "              2006    10252.360487\n",
      "              2005     9692.120586\n",
      "United States 2008    49319.478865\n",
      "              2007    49856.281491\n",
      "              2006    49405.767296\n",
      "              2005    48499.812376\n"
     ]
    }
   ],
   "source": [
    "# get gdp data from the World Bank API. \n",
    "\n",
    "start = datetime(2005, 1, 1)\n",
    "end = datetime(2008, 1, 1)\n",
    "indicator_id = 'NY.GDP.PCAP.KD'\n",
    "\n",
    "gdp_per_capita = wb.download(indicator=indicator_id, start=start, end=end, country=['US', 'CA', 'TUR'])\n",
    "\n",
    "print(gdp_per_capita)"
   ]
  },
  {
   "cell_type": "code",
   "execution_count": 3,
   "metadata": {},
   "outputs": [
    {
     "name": "stdout",
     "output_type": "stream",
     "text": [
      "        Nasdaq Traded                                      Security Name  \\\n",
      "Symbol                                                                     \n",
      "A                True            Agilent Technologies, Inc. Common Stock   \n",
      "AA               True                    Alcoa Corporation Common Stock    \n",
      "AAAU             True                       Perth Mint Physical Gold ETF   \n",
      "AACG             True  ATA Creativity Global - American Depositary Sh...   \n",
      "AADR             True                AdvisorShares Dorsey Wright ADR ETF   \n",
      "\n",
      "       Listing Exchange Market Category    ETF  Round Lot Size  Test Issue  \\\n",
      "Symbol                                                                       \n",
      "A                     N                  False           100.0       False   \n",
      "AA                    N                  False           100.0       False   \n",
      "AAAU                  P                   True           100.0       False   \n",
      "AACG                  Q               G  False           100.0       False   \n",
      "AADR                  P                   True           100.0       False   \n",
      "\n",
      "       Financial Status CQS Symbol NASDAQ Symbol  NextShares  \n",
      "Symbol                                                        \n",
      "A                   NaN          A             A       False  \n",
      "AA                  NaN         AA            AA       False  \n",
      "AAAU                NaN       AAAU          AAAU       False  \n",
      "AACG                  N        NaN          AACG       False  \n",
      "AADR                NaN       AADR          AADR       False  \n"
     ]
    }
   ],
   "source": [
    "from pandas_datareader.nasdaq_trader import get_nasdaq_symbols\n",
    "\n",
    "symbols = get_nasdaq_symbols()\n",
    "print(symbols.head())"
   ]
  },
  {
   "cell_type": "markdown",
   "metadata": {},
   "source": [
    "One API that does just that is the Federal Reserve Bank of St. Louis (FRED), which we can access by first importing the pandas_datareader.data sub-module and then calling it’s DataReader function:\n",
    "\n",
    "The DataReader function takes 4 arguments:\n",
    "\n",
    "    'MORTGAGE30US' - An identifier provided by the API specifying the data we want back, in this case 30 year mortgage data in the US\n",
    "    'fred' - The name of the API we want to access\n",
    "    start_date, end_date - The date range we want the data to be from\n"
   ]
  },
  {
   "cell_type": "code",
   "execution_count": 4,
   "metadata": {},
   "outputs": [
    {
     "data": {
      "text/html": [
       "<div>\n",
       "<style scoped>\n",
       "    .dataframe tbody tr th:only-of-type {\n",
       "        vertical-align: middle;\n",
       "    }\n",
       "\n",
       "    .dataframe tbody tr th {\n",
       "        vertical-align: top;\n",
       "    }\n",
       "\n",
       "    .dataframe thead th {\n",
       "        text-align: right;\n",
       "    }\n",
       "</style>\n",
       "<table border=\"1\" class=\"dataframe\">\n",
       "  <thead>\n",
       "    <tr style=\"text-align: right;\">\n",
       "      <th></th>\n",
       "      <th>SP500</th>\n",
       "    </tr>\n",
       "    <tr>\n",
       "      <th>DATE</th>\n",
       "      <th></th>\n",
       "    </tr>\n",
       "  </thead>\n",
       "  <tbody>\n",
       "    <tr>\n",
       "      <th>2019-12-02</th>\n",
       "      <td>3113.87</td>\n",
       "    </tr>\n",
       "    <tr>\n",
       "      <th>2019-12-03</th>\n",
       "      <td>3093.20</td>\n",
       "    </tr>\n",
       "    <tr>\n",
       "      <th>2019-12-04</th>\n",
       "      <td>3112.76</td>\n",
       "    </tr>\n",
       "    <tr>\n",
       "      <th>2019-12-05</th>\n",
       "      <td>3117.43</td>\n",
       "    </tr>\n",
       "    <tr>\n",
       "      <th>2019-12-06</th>\n",
       "      <td>3145.91</td>\n",
       "    </tr>\n",
       "  </tbody>\n",
       "</table>\n",
       "</div>"
      ],
      "text/plain": [
       "              SP500\n",
       "DATE               \n",
       "2019-12-02  3113.87\n",
       "2019-12-03  3093.20\n",
       "2019-12-04  3112.76\n",
       "2019-12-05  3117.43\n",
       "2019-12-06  3145.91"
      ]
     },
     "execution_count": 4,
     "metadata": {},
     "output_type": "execute_result"
    }
   ],
   "source": [
    "import pandas_datareader.data as web\n",
    "\n",
    "start = datetime(2019,12,1) # year, month, day\n",
    "end = datetime(2019,12,8)\n",
    "web.DataReader('SP500', 'fred', start, end)"
   ]
  },
  {
   "cell_type": "code",
   "execution_count": 5,
   "metadata": {},
   "outputs": [
    {
     "data": {
      "text/html": [
       "<div>\n",
       "<style scoped>\n",
       "    .dataframe tbody tr th:only-of-type {\n",
       "        vertical-align: middle;\n",
       "    }\n",
       "\n",
       "    .dataframe tbody tr th {\n",
       "        vertical-align: top;\n",
       "    }\n",
       "\n",
       "    .dataframe thead th {\n",
       "        text-align: right;\n",
       "    }\n",
       "</style>\n",
       "<table border=\"1\" class=\"dataframe\">\n",
       "  <thead>\n",
       "    <tr style=\"text-align: right;\">\n",
       "      <th></th>\n",
       "      <th></th>\n",
       "      <th>adjClose</th>\n",
       "      <th>adjHigh</th>\n",
       "      <th>adjLow</th>\n",
       "      <th>adjOpen</th>\n",
       "      <th>adjVolume</th>\n",
       "      <th>close</th>\n",
       "      <th>divCash</th>\n",
       "      <th>high</th>\n",
       "      <th>low</th>\n",
       "      <th>open</th>\n",
       "      <th>splitFactor</th>\n",
       "      <th>volume</th>\n",
       "    </tr>\n",
       "    <tr>\n",
       "      <th>symbol</th>\n",
       "      <th>date</th>\n",
       "      <th></th>\n",
       "      <th></th>\n",
       "      <th></th>\n",
       "      <th></th>\n",
       "      <th></th>\n",
       "      <th></th>\n",
       "      <th></th>\n",
       "      <th></th>\n",
       "      <th></th>\n",
       "      <th></th>\n",
       "      <th></th>\n",
       "      <th></th>\n",
       "    </tr>\n",
       "  </thead>\n",
       "  <tbody>\n",
       "    <tr>\n",
       "      <th rowspan=\"5\" valign=\"top\">GOOG</th>\n",
       "      <th>2019-12-02 00:00:00+00:00</th>\n",
       "      <td>1289.92</td>\n",
       "      <td>1305.83</td>\n",
       "      <td>1281.00</td>\n",
       "      <td>1301.00</td>\n",
       "      <td>1511851</td>\n",
       "      <td>1289.92</td>\n",
       "      <td>0.0</td>\n",
       "      <td>1305.83</td>\n",
       "      <td>1281.00</td>\n",
       "      <td>1301.00</td>\n",
       "      <td>1.0</td>\n",
       "      <td>1511851</td>\n",
       "    </tr>\n",
       "    <tr>\n",
       "      <th>2019-12-03 00:00:00+00:00</th>\n",
       "      <td>1295.28</td>\n",
       "      <td>1298.46</td>\n",
       "      <td>1279.00</td>\n",
       "      <td>1279.57</td>\n",
       "      <td>1268647</td>\n",
       "      <td>1295.28</td>\n",
       "      <td>0.0</td>\n",
       "      <td>1298.46</td>\n",
       "      <td>1279.00</td>\n",
       "      <td>1279.57</td>\n",
       "      <td>1.0</td>\n",
       "      <td>1268647</td>\n",
       "    </tr>\n",
       "    <tr>\n",
       "      <th>2019-12-04 00:00:00+00:00</th>\n",
       "      <td>1320.54</td>\n",
       "      <td>1325.80</td>\n",
       "      <td>1304.87</td>\n",
       "      <td>1307.01</td>\n",
       "      <td>1538110</td>\n",
       "      <td>1320.54</td>\n",
       "      <td>0.0</td>\n",
       "      <td>1325.80</td>\n",
       "      <td>1304.87</td>\n",
       "      <td>1307.01</td>\n",
       "      <td>1.0</td>\n",
       "      <td>1538110</td>\n",
       "    </tr>\n",
       "    <tr>\n",
       "      <th>2019-12-05 00:00:00+00:00</th>\n",
       "      <td>1328.13</td>\n",
       "      <td>1329.36</td>\n",
       "      <td>1316.44</td>\n",
       "      <td>1328.00</td>\n",
       "      <td>1212818</td>\n",
       "      <td>1328.13</td>\n",
       "      <td>0.0</td>\n",
       "      <td>1329.36</td>\n",
       "      <td>1316.44</td>\n",
       "      <td>1328.00</td>\n",
       "      <td>1.0</td>\n",
       "      <td>1212818</td>\n",
       "    </tr>\n",
       "    <tr>\n",
       "      <th>2019-12-06 00:00:00+00:00</th>\n",
       "      <td>1340.62</td>\n",
       "      <td>1344.00</td>\n",
       "      <td>1333.44</td>\n",
       "      <td>1333.44</td>\n",
       "      <td>1315510</td>\n",
       "      <td>1340.62</td>\n",
       "      <td>0.0</td>\n",
       "      <td>1344.00</td>\n",
       "      <td>1333.44</td>\n",
       "      <td>1333.44</td>\n",
       "      <td>1.0</td>\n",
       "      <td>1315510</td>\n",
       "    </tr>\n",
       "  </tbody>\n",
       "</table>\n",
       "</div>"
      ],
      "text/plain": [
       "                                  adjClose  adjHigh   adjLow  adjOpen  \\\n",
       "symbol date                                                             \n",
       "GOOG   2019-12-02 00:00:00+00:00   1289.92  1305.83  1281.00  1301.00   \n",
       "       2019-12-03 00:00:00+00:00   1295.28  1298.46  1279.00  1279.57   \n",
       "       2019-12-04 00:00:00+00:00   1320.54  1325.80  1304.87  1307.01   \n",
       "       2019-12-05 00:00:00+00:00   1328.13  1329.36  1316.44  1328.00   \n",
       "       2019-12-06 00:00:00+00:00   1340.62  1344.00  1333.44  1333.44   \n",
       "\n",
       "                                  adjVolume    close  divCash     high  \\\n",
       "symbol date                                                              \n",
       "GOOG   2019-12-02 00:00:00+00:00    1511851  1289.92      0.0  1305.83   \n",
       "       2019-12-03 00:00:00+00:00    1268647  1295.28      0.0  1298.46   \n",
       "       2019-12-04 00:00:00+00:00    1538110  1320.54      0.0  1325.80   \n",
       "       2019-12-05 00:00:00+00:00    1212818  1328.13      0.0  1329.36   \n",
       "       2019-12-06 00:00:00+00:00    1315510  1340.62      0.0  1344.00   \n",
       "\n",
       "                                      low     open  splitFactor   volume  \n",
       "symbol date                                                               \n",
       "GOOG   2019-12-02 00:00:00+00:00  1281.00  1301.00          1.0  1511851  \n",
       "       2019-12-03 00:00:00+00:00  1279.00  1279.57          1.0  1268647  \n",
       "       2019-12-04 00:00:00+00:00  1304.87  1307.01          1.0  1538110  \n",
       "       2019-12-05 00:00:00+00:00  1316.44  1328.00          1.0  1212818  \n",
       "       2019-12-06 00:00:00+00:00  1333.44  1333.44          1.0  1315510  "
      ]
     },
     "execution_count": 5,
     "metadata": {},
     "output_type": "execute_result"
    }
   ],
   "source": [
    "#Tiingo\n",
    "\n",
    "import pandas_datareader as dr \n",
    "\n",
    "goog = dr.get_data_tiingo('GOOG', api_key='e207521e103ad24d2d03e9ea0bb934f1acf7fadc')\n",
    "goog.tail()\n"
   ]
  },
  {
   "cell_type": "code",
   "execution_count": 6,
   "metadata": {},
   "outputs": [
    {
     "name": "stdout",
     "output_type": "stream",
     "text": [
      "                  GDP   growth\n",
      "DATE                          \n",
      "2008-01-01  14651.039      NaN\n",
      "2008-04-01  14805.611  154.572\n",
      "2008-07-01  14835.187   29.576\n",
      "2008-10-01  14559.543 -275.644\n",
      "2009-01-01  14394.547 -164.996\n",
      "2009-04-01  14352.850  -41.697\n",
      "2009-07-01  14420.312   67.462\n",
      "2009-10-01  14628.021  207.709\n",
      "2010-01-01  14721.350   93.329\n",
      "2010-04-01  14926.098  204.748\n",
      "2010-07-01  15079.917  153.819\n",
      "2010-10-01  15240.843  160.926\n",
      "2011-01-01  15285.828   44.985\n",
      "2011-04-01  15496.189  210.361\n",
      "2011-07-01  15591.850   95.661\n",
      "2011-10-01  15796.460  204.610\n",
      "2012-01-01  16019.758  223.298\n",
      "2012-04-01  16152.257  132.499\n",
      "2012-07-01  16257.151  104.894\n",
      "2012-10-01  16358.863  101.712\n",
      "2013-01-01  16569.591  210.728\n",
      "2013-04-01  16637.926   68.335\n",
      "2013-07-01  16848.748  210.822\n",
      "2013-10-01  17083.137  234.389\n",
      "2014-01-01  17104.555   21.418\n",
      "2014-04-01  17432.909  328.354\n",
      "2014-07-01  17721.657  288.748\n",
      "2014-10-01  17849.912  128.255\n",
      "2015-01-01  17984.178  134.266\n",
      "2015-04-01  18219.405  235.227\n",
      "2015-07-01  18344.713  125.308\n",
      "2015-10-01  18350.825    6.112\n",
      "2016-01-01  18424.283   73.458\n",
      "2016-04-01  18637.253  212.970\n",
      "2016-07-01  18806.743  169.490\n",
      "2016-10-01  18991.883  185.140\n",
      "2017-01-01  19190.431  198.548\n",
      "2017-04-01  19356.649  166.218\n",
      "2017-07-01  19611.704  255.055\n",
      "2017-10-01  19918.910  307.206\n",
      "2018-01-01  20163.159  244.249\n"
     ]
    }
   ],
   "source": [
    "#shift\n",
    "start = datetime(2008,1,1)\n",
    "end = datetime(2018,1,1)\n",
    "\n",
    "gdp = web.DataReader('GDP', 'fred', start, end)\n",
    "gdp['growth'] = gdp['GDP'] - gdp['GDP'].shift(1)\n",
    "print(gdp)"
   ]
  },
  {
   "cell_type": "markdown",
   "metadata": {},
   "source": [
    "#### Variance\n",
    "\n",
    "Variance measures how far a set of numbers are spread out from their average. In finance, this is used to determine the volatility of investments.\n",
    "\n",
    "#### Covariance\n",
    "\n",
    "Covariance, in a financial context, describes the relationship between the returns on two different investments over a period of time, and can be used to help balance a portfolio.\n",
    "\n",
    "The larger the number the more investments tend to move up and down at the same time."
   ]
  },
  {
   "cell_type": "code",
   "execution_count": 7,
   "metadata": {},
   "outputs": [],
   "source": [
    "#Thrift Savings Plan (TSP) API\n",
    "import pandas_datareader.tsp as tsp\n",
    "\n",
    "start = datetime(2009, 1, 1)\n",
    "end = datetime(2019, 1, 1)\n",
    "\n",
    "tsp_data = tsp.TSPReader(start,end).read()"
   ]
  },
  {
   "cell_type": "code",
   "execution_count": 8,
   "metadata": {},
   "outputs": [
    {
     "name": "stdout",
     "output_type": "stream",
     "text": [
      "L Income    0.094226\n",
      "L 2020      0.254266\n",
      "L 2030      0.951525\n",
      "L 2040      1.483319\n",
      "L 2050      0.606738\n",
      "G Fund      0.009592\n",
      "F Fund      0.313593\n",
      "C Fund      4.651628\n",
      "S Fund      3.785746\n",
      "I Fund      1.166750\n",
      "dtype: float64\n"
     ]
    }
   ],
   "source": [
    "print(tsp_data.var())"
   ]
  },
  {
   "cell_type": "code",
   "execution_count": 9,
   "metadata": {},
   "outputs": [
    {
     "name": "stdout",
     "output_type": "stream",
     "text": [
      "          L Income    L 2020    L 2030    L 2040    L 2050    G Fund  \\\n",
      "L Income  0.094226  0.154570  0.295889  0.368095  0.234595  0.028736   \n",
      "L 2020    0.154570  0.254266  0.488493  0.608224  0.387923  0.046528   \n",
      "L 2030    0.295889  0.488493  0.951525  1.187745  0.759189  0.085957   \n",
      "L 2040    0.368095  0.608224  1.187745  1.483319  0.948508  0.106166   \n",
      "L 2050    0.234595  0.387923  0.759189  0.948508  0.606738  0.067241   \n",
      "G Fund    0.028736  0.046528  0.085957  0.106166  0.067241  0.009592   \n",
      "F Fund    0.152820  0.246218  0.443143  0.544630  0.343415  0.053429   \n",
      "C Fund    0.655163  1.080896  2.100297  2.620580  1.674410  0.191530   \n",
      "S Fund    0.511008  0.860671  1.741164  2.190495  1.409628  0.129621   \n",
      "I Fund    0.305641  0.507356  1.014727  1.272304  0.816339  0.082888   \n",
      "\n",
      "            F Fund    C Fund    S Fund    I Fund  \n",
      "L Income  0.152820  0.655163  0.511008  0.305641  \n",
      "L 2020    0.246218  1.080896  0.860671  0.507356  \n",
      "L 2030    0.443143  2.100297  1.741164  1.014727  \n",
      "L 2040    0.544630  2.620580  2.190495  1.272304  \n",
      "L 2050    0.343415  1.674410  1.409628  0.816339  \n",
      "G Fund    0.053429  0.191530  0.129621  0.082888  \n",
      "F Fund    0.313593  0.994565  0.613235  0.398057  \n",
      "C Fund    0.994565  4.651628  3.831105  2.212195  \n",
      "S Fund    0.613235  3.831105  3.785746  1.923883  \n",
      "I Fund    0.398057  2.212195  1.923883  1.166750  \n"
     ]
    }
   ],
   "source": [
    "print(tsp_data.cov())"
   ]
  },
  {
   "cell_type": "markdown",
   "metadata": {},
   "source": [
    "#### Review\n",
    "\n",
    "+ Python is able to import financial data from csv files as well as public financial APIs.\n",
    "+ The pandas read_csv function can be used to import data from a csv file into a pandas dataframe.\n",
    "+ Pandas-datareader makes it easy to import data from public financial APIs.\n",
    "+ Python’s datetime function can be used to create datetime objects which are often used to specify time ranges for financial data.\n",
    "+ API keys are unique identifiers required for some APIs in order to access data.\n",
    "+ Sometimes APIs can be flaky. To mitigate the damage this might cause it’s best to test your code often and keep up to date with the pandas-datareader documentation and GitHub page.\n",
    "+ The shift function can be used on the rows in a DataFrame column to shift them up or down.\n",
    "+ Pandas provides common statistical functions like var and cov to make it easy to calculate variance and covariance on a dataset.\n"
   ]
  },
  {
   "cell_type": "code",
   "execution_count": null,
   "metadata": {},
   "outputs": [],
   "source": []
  }
 ],
 "metadata": {
  "kernelspec": {
   "display_name": "Python 3",
   "language": "python",
   "name": "python3"
  },
  "language_info": {
   "codemirror_mode": {
    "name": "ipython",
    "version": 3
   },
   "file_extension": ".py",
   "mimetype": "text/x-python",
   "name": "python",
   "nbconvert_exporter": "python",
   "pygments_lexer": "ipython3",
   "version": "3.7.3"
  }
 },
 "nbformat": 4,
 "nbformat_minor": 2
}
