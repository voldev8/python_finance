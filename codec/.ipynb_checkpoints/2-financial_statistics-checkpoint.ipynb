{
 "cells": [
  {
   "cell_type": "markdown",
   "metadata": {},
   "source": [
    "### Calculating Financial Statistics\n",
    "\n",
    "The rate of return is a measure of the amount of money gained or lost in an investment. A positive return signifies a profit and a negative return indicates a loss. The risk of an investment is defined as the likelihood of suffering a financial loss.\n"
   ]
  },
  {
   "cell_type": "code",
   "execution_count": 1,
   "metadata": {},
   "outputs": [
    {
     "name": "stdout",
     "output_type": "stream",
     "text": [
      "7.5%\n"
     ]
    }
   ],
   "source": [
    "rate_of_return = 0.075\n",
    "\n",
    "def display_as_percentage(val):\n",
    "    return str(round(val*100, 1))+'%'\n",
    "print(display_as_percentage(rate_of_return))"
   ]
  },
  {
   "cell_type": "markdown",
   "metadata": {},
   "source": [
    "#### Simple return rate\n",
    "The most basic type of return is the simple rate of return. It is defined as the difference between the starting and ending price of an investment over a time period, divided by the starting price. If an investment returns dividends, those dividends should be added to the numerator.\n",
    "\n",
    "R=(E−S+D)/S\n",
    "\n",
    "    R: simple rate of return\n",
    "    S: starting price of investment\n",
    "    E: ending price of investment\n",
    "    D: dividend\n"
   ]
  },
  {
   "cell_type": "code",
   "execution_count": 2,
   "metadata": {},
   "outputs": [
    {
     "name": "stdout",
     "output_type": "stream",
     "text": [
      "0.35\n"
     ]
    }
   ],
   "source": [
    "def calculate_simple_return(start_price, end_price, dividend=0):\n",
    "    return (end_price - start_price + dividend)/start_price\n",
    "simple_return = calculate_simple_return(200,250, 20)\n",
    "print(simple_return)"
   ]
  },
  {
   "cell_type": "markdown",
   "metadata": {},
   "source": [
    "#### Logaritmic return rate\n",
    "Another type of return is the logarithmic rate of return, also known as the continuously compounded return. This is the expected return for an investment where the earnings are assumed to be continually reinvested over the time period. It is calculated by taking the difference between the log of the ending price and the log of the starting price.\n",
    "\n",
    "r=log(E)−log(S)=log(S/E)\n",
    "\n",
    "    r: logarithmic rate of return\n",
    "    S: starting price of investment\n",
    "    E: ending price of investment\n"
   ]
  },
  {
   "cell_type": "code",
   "execution_count": 3,
   "metadata": {},
   "outputs": [
    {
     "name": "stdout",
     "output_type": "stream",
     "text": [
      "0.2231435513142097\n"
     ]
    }
   ],
   "source": [
    "from math import log\n",
    "def calculate_log_return(start_price, end_price):\n",
    "    return log(end_price)-log(start_price)\n",
    "log_return = calculate_log_return(200, 250)\n",
    "print(log_return)"
   ]
  },
  {
   "cell_type": "markdown",
   "metadata": {},
   "source": [
    "#### Annualizing\n",
    "An investment with a 2% rate of return over one day is surely not the same as an investment with a 2% rate of return over one month. Thus, it is common to convert returns to a standard time period. Often, this means converting to the annual rate of return in a process called annualizing.\n",
    "\n",
    "r=r0∗t\n",
    "\n",
    "    r: converted log rate of return\n",
    "    r0: original log rate of return\n",
    "    t: the number of original time periods in the new time period\n"
   ]
  },
  {
   "cell_type": "code",
   "execution_count": 4,
   "metadata": {},
   "outputs": [
    {
     "name": "stdout",
     "output_type": "stream",
     "text": [
      "25.2%\n",
      "26.4%\n"
     ]
    }
   ],
   "source": [
    "def annualize_return(log_return, t):\n",
    "    return log_return*t\n",
    "\n",
    "daily_return_a = 0.001\n",
    "monthly_return_b = 0.022\n",
    "\n",
    "annual_return_a = annualize_return(daily_return_a, 252)\n",
    "annual_return_b = annualize_return(monthly_return_b, 12)\n",
    "print(display_as_percentage(annual_return_a))\n",
    "print(display_as_percentage(annual_return_b))"
   ]
  },
  {
   "cell_type": "markdown",
   "metadata": {},
   "source": [
    "Now, let’s look at an extension of the previous conversion formula. Suppose we know the log rate of return for 5 days of a given year. Which daily log return would we use to calculate the annual return?\n",
    "\n",
    "In this case, we can first take the average of the 5 daily log returns, then multiple by 252, the number of trading days in a year"
   ]
  },
  {
   "cell_type": "code",
   "execution_count": 5,
   "metadata": {},
   "outputs": [
    {
     "name": "stdout",
     "output_type": "stream",
     "text": [
      "20.2%\n",
      "0.4%\n"
     ]
    }
   ],
   "source": [
    "import numpy as np\n",
    "\n",
    "def convert_returns(log_returns, t):\n",
    "    return np.mean(log_returns)*t\n",
    "\n",
    "daily_returns = [0.002, -0.002, 0.003, 0.002, -0.001]\n",
    "\n",
    "annual_return = convert_returns(daily_returns, 252)\n",
    "print(display_as_percentage(annual_return))\n",
    "\n",
    "#if you know all you can just sum up\n",
    "weekly_return = sum(daily_returns)\n",
    "print(display_as_percentage(weekly_return))"
   ]
  },
  {
   "cell_type": "markdown",
   "metadata": {},
   "source": [
    "#### Variance\n",
    "\n",
    "Now that we have a good understanding of rate of return, let’s shift our focus to assessing the risk involved in an investment. One of the key statistics for understanding risk is variance. Variance is a measure of the spread of a dataset, or how far apart each value is from the mean. The greater the variance, the more spread out or variable the data is.\n"
   ]
  },
  {
   "cell_type": "code",
   "execution_count": 6,
   "metadata": {},
   "outputs": [
    {
     "name": "stdout",
     "output_type": "stream",
     "text": [
      "The variance of Disney stock returns is 0.006\n",
      "The variance of CBS stock returns is 0.041\n"
     ]
    }
   ],
   "source": [
    "# historical annual stock returns for the Walt Disney Company (DIS) and CBS Corporation (CBS)\n",
    "returns_disney = [0.22, 0.12, 0.01, 0.05, 0.04]\n",
    "returns_cbs = [-0.13, -0.15, 0.31, -0.06, -0.29]\n",
    "\n",
    "# variance_disney = np.var(returns_disney)\n",
    "# variance_cbs = np.var(returns_cbs)\n",
    "\n",
    "def calculate_variance(dataset):\n",
    "    mean = np.mean(dataset)\n",
    "    numerator = sum([(i-mean)**2 for i in dataset])\n",
    "    variance = numerator/len(dataset)\n",
    "    return variance\n",
    "\n",
    "variance_disney = calculate_variance(returns_disney)\n",
    "variance_cbs = calculate_variance(returns_cbs)\n",
    "print('The variance of Disney stock returns is', round(variance_disney, 3))\n",
    "print('The variance of CBS stock returns is', round(variance_cbs, 3))"
   ]
  },
  {
   "cell_type": "markdown",
   "metadata": {},
   "source": [
    "#### Standard Deviation\n",
    "\n",
    "Although the variance is useful in determining the relative risk of an investment, it is sometimes not the easiest statistic to interpret since it does not have the same unit as the original data. As an alternative, it is common to use the standard deviation to describe the spread of the dataset. "
   ]
  },
  {
   "cell_type": "code",
   "execution_count": 7,
   "metadata": {},
   "outputs": [
    {
     "name": "stdout",
     "output_type": "stream",
     "text": [
      "The standard deviation of Disney stock returns is 0.07520638270785267\n",
      "The standard deviation of CBS stock returns is 0.2013554071784515\n"
     ]
    }
   ],
   "source": [
    "from math import sqrt\n",
    "\n",
    "def calculate_stddev(dataset):\n",
    "    variance = calculate_variance(dataset)\n",
    "    stddev = sqrt(variance)\n",
    "    return stddev\n",
    "\n",
    "stddev_disney = calculate_stddev(returns_disney)\n",
    "stddev_cbs = calculate_stddev(returns_cbs)\n",
    "print('The standard deviation of Disney stock returns is', (stddev_disney))\n",
    "print('The standard deviation of CBS stock returns is', (stddev_cbs))"
   ]
  },
  {
   "cell_type": "markdown",
   "metadata": {},
   "source": [
    "#### Correlation \n",
    "\n",
    "Another important statistic for assessing risk is the correlation between the returns of two assets. Correlation is a measure of how closely two datasets are associated with each other. It is often represented by the correlation coefficient, which is a value that ranges between -1 and 1. This indicates whether there is a positive correlation, negative correlation, or no correlation:\n",
    "\n",
    "    Positive correlation – when the rate of return of one asset deviates upward from its mean, the other usually deviates upward as well.\n",
    "\n",
    "    Negative correlation – when the rate of return of one asset deviates upward from its mean, the other usually deviates downward.\n",
    "\n",
    "    No correlation – when a change in one asset’s rate of return does not dictate a change in another. The correlation coefficient will be close to 0.\n"
   ]
  },
  {
   "cell_type": "code",
   "execution_count": 8,
   "metadata": {},
   "outputs": [],
   "source": [
    "def calculate_correlation(set_x, set_y):\n",
    "    # Sum of all values in each dataset\n",
    "    sum_x = sum(set_x)\n",
    "    sum_y = sum(set_y)\n",
    "\n",
    "    # Sum of all squared values in each dataset\n",
    "    sum_x2 = sum([x ** 2 for x in set_x])\n",
    "\n",
    "    sum_y2 =sum([y ** 2 for y in set_y])\n",
    "\n",
    "    # Sum of the product of each respective element in each dataset \n",
    "    sum_xy = sum([x*y for x,y in zip(set_x, set_y)])\n",
    "\n",
    "    # Length of dataset\n",
    "    n = len(set_x)\n",
    "\n",
    "    # Calculate correlation coefficient\n",
    "    numerator = (n * sum_xy) - (sum_x * sum_y)\n",
    "    denominator = sqrt((n * sum_x2 - sum_x ** 2) * (n * sum_y2 - sum_y ** 2))\n",
    "\n",
    "    return numerator / denominator\n"
   ]
  },
  {
   "cell_type": "code",
   "execution_count": 9,
   "metadata": {},
   "outputs": [
    {
     "name": "stdout",
     "output_type": "stream",
     "text": [
      "The correlation coefficient between General Motors and Ford is 0.8414599743167742\n",
      "The correlation coefficient between General Motors and ExxonMobil is  -0.7032246241393197\n",
      "The correlation coefficient between General Motors and Apple is  -0.05181389942186936\n",
      "[[ 1.          0.84145997 -0.70322462 -0.0518139 ]\n",
      " [ 0.84145997  1.         -0.87407739 -0.1286648 ]\n",
      " [-0.70322462 -0.87407739  1.          0.09955855]\n",
      " [-0.0518139  -0.1286648   0.09955855  1.        ]]\n"
     ]
    }
   ],
   "source": [
    "returns_general_motors = [0.018, -0.005, -0.047, -0.009, -0.012, 0.003, -0.027, -0.014, 0.029, -0.062, 0.009]\n",
    "returns_ford = [0.002, -0.004, -0.027, -0.022, -0.001, 0.002, -0.006, -0.017, 0.035, -0.029, 0.002]\n",
    "returns_exxon_mobil = [0.008, 0.015, 0.009, 0.012, 0.003, -0.007, 0.006, 0.005, -0.048, 0.025, -0.012]\n",
    "returns_apple = [-0.002, 0.007, -0.004, -0.004, 0.002, 0.013, -0.011, 0.017, -0.001, 0.012, 0.006]\n",
    "\n",
    "corr_gm_ford = calculate_correlation(returns_general_motors, returns_ford)\n",
    "print('The correlation coefficient between General Motors and Ford is', corr_gm_ford)\n",
    "\n",
    "# Write code here\n",
    "print('The correlation coefficient between General Motors and ExxonMobil is ', \n",
    "      calculate_correlation(returns_general_motors, returns_exxon_mobil))\n",
    "print('The correlation coefficient between General Motors and Apple is ', \n",
    "      calculate_correlation(returns_general_motors, returns_apple))\n",
    "\n",
    "corrcoef_matrix = np.corrcoef([returns_general_motors, returns_ford, returns_exxon_mobil, returns_apple])\n",
    "print(corrcoef_matrix)"
   ]
  },
  {
   "cell_type": "markdown",
   "metadata": {},
   "source": [
    "#### Review\n",
    "\n",
    "Congratulations on reaching the end!\n",
    "\n",
    "calculate and understand the rate of return of an investment:\n",
    "\n",
    "    Simple Rate of Return – advantageous for aggregating over assets\n",
    "    Logarithmic Rate of Return – advantageous for aggregating over time\n",
    "\n",
    "key financial statistics and what they signify in terms of the risk of an investment:\n",
    "\n",
    "    Variance – measure of the spread of a dataset; an asset with low variance is less risky\n",
    "    Standard Deviation – square root of the variance; easier to interpret than variance because it has the same unit as the original dataset\n",
    "    Correlation – measure of the association between datasets; assets with no correlation have returns that are independent of each other\n"
   ]
  },
  {
   "cell_type": "code",
   "execution_count": null,
   "metadata": {},
   "outputs": [],
   "source": []
  }
 ],
 "metadata": {
  "kernelspec": {
   "display_name": "Python 3",
   "language": "python",
   "name": "python3"
  },
  "language_info": {
   "codemirror_mode": {
    "name": "ipython",
    "version": 3
   },
   "file_extension": ".py",
   "mimetype": "text/x-python",
   "name": "python",
   "nbconvert_exporter": "python",
   "pygments_lexer": "ipython3",
   "version": "3.7.3"
  }
 },
 "nbformat": 4,
 "nbformat_minor": 2
}
